{
 "cells": [
  {
   "cell_type": "code",
   "execution_count": null,
   "id": "9f57e515",
   "metadata": {},
   "outputs": [
    {
     "name": "stderr",
     "output_type": "stream",
     "text": [
      "c:\\Users\\dhlui\\anaconda3\\lib\\site-packages\\pandas\\core\\arrays\\masked.py:60: UserWarning: Pandas requires version '1.3.6' or newer of 'bottleneck' (version '1.3.2' currently installed).\n",
      "  from pandas.core import (\n"
     ]
    }
   ],
   "source": [
    "import pandas as pd\n",
    "\n",
    "versions = ['07','08','09']\n",
    "\n",
    "questions = {\n",
    "    'identifica': 'UF',\n",
    "    'V1013': 'mes_pesquisa',\n",
    "    'A002': 'idade',\n",
    "    'A003': 'sexo',\n",
    "    'A005': 'escolaridade',\n",
    "    'D0051': 'recebeu_auxilio',\n",
    "    'B0011': 'teve_febre_semana_passada',\n",
    "    'B0012': 'teve_tosse_semana_passada',\n",
    "    'B0013': 'teve_dor_garganta_semana_passada',\n",
    "    'B0014': 'teve_dificuldade_respirar',\n",
    "    'B0015': 'teve_dor_cabeca',\n",
    "    'B0016': 'teve_dor_peito',\n",
    "    'B0017': 'teve_nausea',\n",
    "    'B0018': 'teve_nariz_entupido',\n",
    "    'C001': 'trabalhou_semana_passada',\n",
    "    'B008': 'fez_exame',\n",
    "    'B009B': 'resultado_swab',\n",
    "    'B009C': 'resultado_furo_no_dedo',\n",
    "    'B009D': 'resultado_veia_no_braco',\n",
    "    'B011': 'providencia_exame',\n",
    "}\n",
    "\n",
    "\n",
    "version_df = pd.DataFrame()\n",
    "\n",
    "geral_df = pd.DataFrame()\n",
    "\n",
    "\n",
    "for i in versions:\n",
    "    version_df = pd.read_csv(f'PNAD_COVID_{i}2020.csv', sep=',')\n",
    "    version_df = version_df[list(questions.keys())]\n",
    "    version_df = version_df.rename(columns=questions)\n",
    "    version_df.to_csv(f'tratamento\\PNAD-{i}2020.csv', index=False)\n",
    "    if len(geral_df) == 0:\n",
    "        geral_df = version_df.copy()\n",
    "    else:\n",
    "        geral_df = pd.concat([geral_df,version_df]).reset_index(drop=True)\n",
    "\n",
    "\n",
    "\n",
    "\n",
    "geral_df.to_csv(f'tratamento\\PNAD-2020.csv', index=False)\n"
   ]
  },
  {
   "cell_type": "code",
   "execution_count": 3,
   "id": "d2569226",
   "metadata": {},
   "outputs": [
    {
     "data": {
      "text/plain": [
       "['UF',\n",
       " 'mes_pesquisa',\n",
       " 'idade',\n",
       " 'sexo',\n",
       " 'escolaridade',\n",
       " 'recebeu_auxilio',\n",
       " 'teve_febre_semana_passada',\n",
       " 'teve_tosse_semana_passada',\n",
       " 'teve_dor_garganta_semana_passada',\n",
       " 'teve_dificuldade_respirar',\n",
       " 'teve_dor_cabeca',\n",
       " 'teve_dor_peito',\n",
       " 'teve_nausea',\n",
       " 'teve_nariz_entupido',\n",
       " 'trabalhou_semana_passada',\n",
       " 'fez_exame',\n",
       " 'resultado_swab',\n",
       " 'resultado_furo_no_dedo',\n",
       " 'resultado_veia_no_braco',\n",
       " 'providencia_exame']"
      ]
     },
     "execution_count": 3,
     "metadata": {},
     "output_type": "execute_result"
    }
   ],
   "source": [
    "list(questions.values())"
   ]
  }
 ],
 "metadata": {
  "kernelspec": {
   "display_name": "base",
   "language": "python",
   "name": "python3"
  },
  "language_info": {
   "codemirror_mode": {
    "name": "ipython",
    "version": 3
   },
   "file_extension": ".py",
   "mimetype": "text/x-python",
   "name": "python",
   "nbconvert_exporter": "python",
   "pygments_lexer": "ipython3",
   "version": "3.9.7"
  }
 },
 "nbformat": 4,
 "nbformat_minor": 5
}
