{
  "cells": [
    {
      "cell_type": "code",
      "execution_count": null,
      "metadata": {
        "executionInfo": {
          "elapsed": 21,
          "status": "ok",
          "timestamp": 1748204870073,
          "user": {
            "displayName": "",
            "userId": ""
          },
          "user_tz": 180
        },
        "id": "w6MmeBUBJ-9E"
      },
      "outputs": [],
      "source": [
        "# @title Setup\n",
        "from google.cloud import bigquery\n",
        "from google.colab import data_table\n",
        "import bigframes.pandas as bpd\n",
        "import pandas as pd\n",
        "from google.colab import files\n",
        "\n",
        "project = 'pnad-covid-460322' # Project ID inserted based on the query results selected to explore\n",
        "location = 'US' # Location inserted based on the query results selected to explore\n",
        "client = bigquery.Client(project=project, location=location)\n",
        "data_table.enable_dataframe_formatter()"
      ]
    },
    {
      "cell_type": "markdown",
      "metadata": {
        "id": "_ua5nNWl1UYS"
      },
      "source": [
        "# CONSULTA PNAD"
      ]
    },
    {
      "cell_type": "code",
      "execution_count": null,
      "metadata": {
        "colab": {
          "base_uri": "https://localhost:8080/",
          "height": 565
        },
        "executionInfo": {
          "elapsed": 15636,
          "status": "ok",
          "timestamp": 1748204885693,
          "user": {
            "displayName": "",
            "userId": ""
          },
          "user_tz": 180
        },
        "id": "KxSqPfAeXW_K",
        "outputId": "ccc3fe2a-5990-4fe7-ac39-fccecbaa19db"
      },
      "outputs": [],
      "source": [
        "job = client.get_job('bquxjob_2d98cf22_197075cb7f8')\n",
        "destination = job.destination\n",
        "bq_df = bpd.read_gbq(f\"{destination.project}.{destination.dataset_id}.{destination.table_id}\")\n",
        "pandas_df = bq_df.to_pandas()\n",
        "\n",
        "pandas_df"
      ]
    },
    {
      "cell_type": "markdown",
      "metadata": {
        "id": "KOFLQXOC1a7t"
      },
      "source": [
        "# DICIONÁRIO DE RESPOSTA\n"
      ]
    },
    {
      "cell_type": "code",
      "execution_count": null,
      "metadata": {
        "colab": {
          "base_uri": "https://localhost:8080/",
          "height": 121
        },
        "executionInfo": {
          "elapsed": 4085,
          "status": "ok",
          "timestamp": 1748204889775,
          "user": {
            "displayName": "",
            "userId": ""
          },
          "user_tz": 180
        },
        "id": "Vi_0mvAi0Vl2",
        "outputId": "285b0068-3bc3-476b-b6af-d3537d6db17d"
      },
      "outputs": [],
      "source": [
        "job_dict = client.get_job('bquxjob_26fb41c7_197075c4f54')\n",
        "destination_dict = job_dict.destination\n",
        "bq_dict_df = bpd.read_gbq(f\"{destination_dict.project}.{destination_dict.dataset_id}.{destination_dict.table_id}\")\n",
        "pandas_dict_df = bq_dict_df.to_pandas()"
      ]
    },
    {
      "cell_type": "markdown",
      "metadata": {
        "id": "aUIwJsnd1o6G"
      },
      "source": [
        "# TRATAMENTO DE RESPOSTAS"
      ]
    },
    {
      "cell_type": "code",
      "execution_count": null,
      "metadata": {
        "executionInfo": {
          "elapsed": 4150,
          "status": "ok",
          "timestamp": 1748204893922,
          "user": {
            "displayName": "",
            "userId": ""
          },
          "user_tz": 180
        },
        "id": "V2-co3I71t29"
      },
      "outputs": [],
      "source": [
        "df_query = pandas_df.copy()\n",
        "\n",
        "dict_map = {}\n",
        "for question in pandas_dict_df['Question'].unique():\n",
        "    sub_df = pandas_dict_df[pandas_dict_df['Question'] == question]\n",
        "    mapping = dict(zip(sub_df['Value'], sub_df['Ref']))\n",
        "    dict_map[question] = mapping\n",
        "\n",
        "# Agora aplicamos esse mapeamento para cada coluna da query:\n",
        "for col in df_query.columns:\n",
        "    if col in dict_map:\n",
        "        df_query[col] = df_query[col].map(dict_map[col])\n"
      ]
    },
    {
      "cell_type": "markdown",
      "metadata": {
        "id": "T-qGGjQuvDUi"
      },
      "source": [
        "### **ANÁLISE TEMPORAL**\n",
        "* Quantidade de testes\n",
        "* Avaliar tipo de teste\n",
        "* Providencias tomadas\n",
        "* Trabalhou na semana anterior\n",
        "* Recebeu auxílio"
      ]
    },
    {
      "cell_type": "code",
      "execution_count": null,
      "metadata": {
        "executionInfo": {
          "elapsed": 3,
          "status": "ok",
          "timestamp": 1748204893922,
          "user": {
            "displayName": "",
            "userId": ""
          },
          "user_tz": 180
        },
        "id": "kdK8fJW8vIJK"
      },
      "outputs": [],
      "source": [
        "df_query_temp = df_query.groupby(['mes_pesquisa'], as_index=False).agg({'total':'sum'})\n",
        "df_query_temp = df_query_temp.pivot_table(index='mes_pesquisa', values='total')\n",
        "\n",
        "\n",
        "df_query_temp_exam = df_query.groupby(['mes_pesquisa', 'fez_exame'], as_index=False).agg({'total':'sum'})\n",
        "df_query_temp_exam = df_query_temp_exam.pivot_table(index='mes_pesquisa', columns='fez_exame', values='total')\n",
        "\n",
        "df_query_temp_result = df_query.groupby(['mes_pesquisa', 'resultado_final'], as_index=False).agg({'total':'sum'})\n",
        "df_query_temp_result = df_query_temp_result.pivot_table(index='mes_pesquisa', columns='resultado_final', values='total')\n",
        "\n",
        "\n",
        "df_query_temp_trab = df_query.groupby(['mes_pesquisa', 'trabalhou_semana_passada'], as_index=False).agg({'total':'sum'})\n",
        "df_query_temp_trab = df_query_temp_trab.pivot_table(index='mes_pesquisa', columns='trabalhou_semana_passada', values='total')\n",
        "\n",
        "df_query_temp_aux = df_query.groupby(['mes_pesquisa', 'recebeu_auxilio'], as_index=False).agg({'total':'sum'})\n",
        "df_query_temp_aux = df_query_temp_aux.pivot_table(index='mes_pesquisa', columns='recebeu_auxilio', values='total')\n",
        "\n",
        "with pd.ExcelWriter(\"Temporal.xlsx\", engine=\"openpyxl\") as writer:\n",
        "    df_query_temp.to_excel(writer, sheet_name=\"Total por Mês\")\n",
        "    df_query_temp_exam.to_excel(writer, sheet_name=\"Fez Exame\")\n",
        "    df_query_temp_result.to_excel(writer, sheet_name=\"Resultados Exame\")\n",
        "    df_query_temp_trab.to_excel(writer, sheet_name=\"Trabalho\")\n",
        "    df_query_temp_aux.to_excel(writer, sheet_name=\"Auxílio\")\n",
        "\n",
        "# files.download('Temporal.xlsx')\n"
      ]
    },
    {
      "cell_type": "markdown",
      "metadata": {
        "id": "H-8I7KMvXyWb"
      },
      "source": [
        "### **ANÁLISE GEOGRÁFICA**\n",
        "* Quantidade de testes\n",
        "* Avaliar tipo de teste\n",
        "* Providencias tomadas\n",
        "* Trabalhou na semana anterior\n",
        "* Recebeu auxílio\n",
        "* Sintomas por região\n",
        "* Escolaridade"
      ]
    },
    {
      "cell_type": "code",
      "execution_count": null,
      "metadata": {
        "executionInfo": {
          "elapsed": 861,
          "status": "ok",
          "timestamp": 1748204894782,
          "user": {
            "displayName": "",
            "userId": ""
          },
          "user_tz": 180
        },
        "id": "QpPg1YylY_ev"
      },
      "outputs": [],
      "source": [
        "\n",
        "df_query_geo = df_query.groupby(['UF'], as_index=False).agg({'total':'sum'})\n",
        "df_query_geo = df_query_geo.pivot_table(index='UF', values='total')\n",
        "\n",
        "\n",
        "df_query_geo_exam = df_query.groupby(['UF', 'fez_exame'], as_index=False).agg({'total':'sum'})\n",
        "df_query_geo_exam = df_query_geo_exam.pivot_table(index='UF', columns='fez_exame', values='total')\n",
        "\n",
        "df_query_geo_result = df_query.groupby(['UF', 'resultado_final'], as_index=False).agg({'total':'sum'})\n",
        "df_query_geo_result = df_query_geo_result.pivot_table(index='UF', columns='resultado_final', values='total')\n",
        "\n",
        "\n",
        "df_query_geo_trab = df_query.groupby(['UF', 'trabalhou_semana_passada'], as_index=False).agg({'total':'sum'})\n",
        "df_query_geo_trab = df_query_geo_trab.pivot_table(index='UF', columns='trabalhou_semana_passada', values='total')\n",
        "\n",
        "df_query_geo_aux = df_query.groupby(['UF', 'recebeu_auxilio'], as_index=False).agg({'total':'sum'})\n",
        "df_query_geo_aux = df_query_geo_aux.pivot_table(index='UF', columns='recebeu_auxilio', values='total')\n",
        "\n",
        "df_query_geo_esc = df_query.groupby(['UF', 'escolaridade'], as_index=False).agg({'total':'sum'})\n",
        "df_query_geo_esc = df_query_geo_esc.pivot_table(index='UF', columns='escolaridade', values='total')\n",
        "\n",
        "with pd.ExcelWriter(\"Geografica.xlsx\", engine=\"openpyxl\") as writer:\n",
        "    df_query_geo.to_excel(writer, sheet_name=\"Total por Mês\")\n",
        "    df_query_geo_exam.to_excel(writer, sheet_name=\"Fez Exame\")\n",
        "    df_query_geo_result.to_excel(writer, sheet_name=\"Resultados Exame\")\n",
        "    df_query_geo_trab.to_excel(writer, sheet_name=\"Trabalho\")\n",
        "    df_query_geo_aux.to_excel(writer, sheet_name=\"Auxílio\")\n",
        "    df_query_geo_esc.to_excel(writer, sheet_name=\"Escolaridade\")\n",
        "\n",
        "# files.download('Geografica.xlsx')\n"
      ]
    },
    {
      "cell_type": "markdown",
      "metadata": {
        "id": "08hnXGPC6vQI"
      },
      "source": [
        "### **ANÁLISE POR CARACTERÍSTICA**\n",
        "* Sexo e idade\n",
        "* Quantidade de testes\n",
        "* Avaliar tipo de teste\n",
        "* Providencias tomadas\n",
        "* Trabalhou na semana anterior\n",
        "* Sintomas por caracteristica\n"
      ]
    },
    {
      "cell_type": "code",
      "execution_count": null,
      "metadata": {
        "colab": {
          "base_uri": "https://localhost:8080/",
          "height": 17
        },
        "executionInfo": {
          "elapsed": 905,
          "status": "ok",
          "timestamp": 1748204895685,
          "user": {
            "displayName": "",
            "userId": ""
          },
          "user_tz": 180
        },
        "id": "orszCZeV6t9t",
        "outputId": "b7922c53-0a2c-430e-87ad-d409d1cfe7c8"
      },
      "outputs": [],
      "source": [
        "df_query_faixa = df_query.copy()\n",
        "\n",
        "df_query_faixa['idade'] = df_query_faixa['idade'].apply(lambda x: '0-9' if x < 10 else\n",
        "                                                                  '10-19' if x < 20 else\n",
        "                                                                  '20-29' if x < 30 else\n",
        "                                                                  '30-39' if x < 40 else\n",
        "                                                                  '40-49' if x < 50 else\n",
        "                                                                  '50-59' if x < 60 else\n",
        "                                                                  '60-69' if x < 70 else\n",
        "                                                                  '70-79' if x < 80 else\n",
        "                                                                  '80-89' if x < 90 else\n",
        "                                                                  '90-99' if x < 100 else '100+')\n",
        "\n",
        "df_query_pop = df_query_faixa.groupby(['idade'], as_index=False).agg({'total':'sum'})\n",
        "\n",
        "df_query_pop_exam = df_query_faixa.groupby(['idade', 'fez_exame'], as_index=False).agg({'total':'sum'})\n",
        "df_query_pop_exam = df_query_pop_exam.pivot_table(index='idade', columns='fez_exame', values='total')\n",
        "\n",
        "df_query_pop_result = df_query_faixa.groupby(['idade', 'resultado_final'], as_index=False).agg({'total':'sum'})\n",
        "df_query_pop_result = df_query_pop_result.pivot_table(index='idade', columns='resultado_final', values='total')\n",
        "\n",
        "df_query_pop_trab = df_query_faixa.groupby(['idade', 'trabalhou_semana_passada'], as_index=False).agg({'total':'sum'})\n",
        "df_query_pop_trab = df_query_pop_trab.pivot_table(index='idade', columns='trabalhou_semana_passada', values='total')\n",
        "\n",
        "\n",
        "df_query_pop_aux = df_query_faixa.groupby(['idade', 'recebeu_auxilio'], as_index=False).agg({'total':'sum'})\n",
        "df_query_pop_aux = df_query_pop_aux.pivot_table(index='idade', columns='recebeu_auxilio', values='total')\n",
        "\n",
        "df_query_pop_esc = df_query_faixa.groupby(['idade', 'escolaridade'], as_index=False).agg({'total':'sum'})\n",
        "df_query_pop_esc = df_query_pop_esc.pivot_table(index='idade', columns='escolaridade', values='total')\n",
        "\n",
        "df_query_pop_sexo = df_query_faixa.groupby(['sexo'], as_index=False).agg({'total':'sum'})\n",
        "\n",
        "df_query_pop_exam_sexo = df_query_faixa.groupby(['sexo', 'fez_exame'], as_index=False).agg({'total':'sum'})\n",
        "df_query_pop_exam_sexo = df_query_pop_exam_sexo.pivot_table(index='sexo', columns='fez_exame', values='total')\n",
        "\n",
        "df_query_pop_result_sexo = df_query_faixa.groupby(['sexo', 'resultado_final'], as_index=False).agg({'total':'sum'})\n",
        "df_query_pop_result_sexo = df_query_pop_result_sexo.pivot_table(index='sexo', columns='resultado_final', values='total')\n",
        "\n",
        "with pd.ExcelWriter(\"Populacao.xlsx\", engine=\"openpyxl\") as writer:\n",
        "    df_query_pop.to_excel(writer, sheet_name=\"Total por Mês\")\n",
        "    df_query_pop_exam.to_excel(writer, sheet_name=\"Fez Exame\")\n",
        "    df_query_pop_result.to_excel(writer, sheet_name=\"Resultados Exame\")\n",
        "    df_query_pop_trab.to_excel(writer, sheet_name=\"Trabalho\")\n",
        "    df_query_pop_aux.to_excel(writer, sheet_name=\"Auxílio\")\n",
        "    df_query_pop_esc.to_excel(writer, sheet_name=\"Escolaridade\")\n",
        "    df_query_pop_sexo.to_excel(writer, sheet_name=\"Sexo\")\n",
        "    df_query_pop_exam_sexo.to_excel(writer, sheet_name=\"Exame_sexo\")\n",
        "    df_query_pop_result_sexo.to_excel(writer, sheet_name=\"resul_sexo\")\n",
        "\n",
        "# files.download('Populacao.xlsx')\n"
      ]
    },
    {
      "cell_type": "code",
      "execution_count": null,
      "metadata": {
        "colab": {
          "base_uri": "https://localhost:8080/",
          "height": 17
        },
        "executionInfo": {
          "elapsed": 6,
          "status": "ok",
          "timestamp": 1748204897239,
          "user": {
            "displayName": "",
            "userId": ""
          },
          "user_tz": 180
        },
        "id": "ddKGxbrnGSFm",
        "outputId": "ed20caf7-e5a4-428a-d48d-e82e95d8d77c"
      },
      "outputs": [],
      "source": [
        "\n",
        "df_query_eco = df_query.groupby(['recebeu_auxilio'], as_index=False).agg({'total':'sum'})\n",
        "\n",
        "df_query_eco_exam = df_query.groupby(['recebeu_auxilio', 'fez_exame'], as_index=False).agg({'total':'sum'})\n",
        "df_query_eco_exam = df_query_eco_exam.pivot_table(index='recebeu_auxilio', columns='fez_exame', values='total')\n",
        "\n",
        "df_query_eco_result = df_query.groupby(['recebeu_auxilio', 'resultado_final'], as_index=False).agg({'total':'sum'})\n",
        "df_query_eco_result = df_query_eco_result.pivot_table(index='recebeu_auxilio', columns='resultado_final', values='total')\n",
        "\n",
        "df_query_eco_trab = df_query.groupby(['recebeu_auxilio', 'trabalhou_semana_passada'], as_index=False).agg({'total':'sum'})\n",
        "df_query_eco_trab = df_query_eco_trab.pivot_table(index='recebeu_auxilio', columns='trabalhou_semana_passada', values='total')\n",
        "\n",
        "\n",
        "df_query_eco_esc = df_query.groupby(['recebeu_auxilio', 'escolaridade'], as_index=False).agg({'total':'sum'})\n",
        "df_query_eco_esc = df_query_eco_esc.pivot_table(index='recebeu_auxilio', columns='escolaridade', values='total')\n",
        "\n",
        "df_query_eco_escolaridade = df_query.groupby(['escolaridade'], as_index=False).agg({'total':'sum'})\n",
        "\n",
        "df_query_eco_exam_escolaridade = df_query.groupby(['escolaridade', 'fez_exame'], as_index=False).agg({'total':'sum'})\n",
        "df_query_eco_exam_escolaridade = df_query_eco_exam_escolaridade.pivot_table(index='escolaridade', columns='fez_exame', values='total')\n",
        "\n",
        "df_query_eco_result_escolaridade = df_query.groupby(['escolaridade', 'resultado_final'], as_index=False).agg({'total':'sum'})\n",
        "df_query_eco_result_escolaridade = df_query_eco_result_escolaridade.pivot_table(index='escolaridade', columns='resultado_final', values='total')\n",
        "\n",
        "with pd.ExcelWriter(\"Economia.xlsx\", engine=\"openpyxl\") as writer:\n",
        "    df_query_eco.to_excel(writer, sheet_name=\"Total por Mês\")\n",
        "    df_query_eco_exam.to_excel(writer, sheet_name=\"Fez Exame\")\n",
        "    df_query_eco_result.to_excel(writer, sheet_name=\"Resultados Exame\")\n",
        "    df_query_eco_trab.to_excel(writer, sheet_name=\"Trabalho\")\n",
        "    df_query_eco_esc.to_excel(writer, sheet_name=\"Escolaridade\")\n",
        "    df_query_eco_escolaridade.to_excel(writer, sheet_name=\"escolaridade\")\n",
        "    df_query_eco_exam_escolaridade.to_excel(writer, sheet_name=\"Exame_escolaridade\")\n",
        "    df_query_eco_result_escolaridade.to_excel(writer, sheet_name=\"resul_escolaridade\")\n",
        "\n",
        "# files.download('Economia.xlsx')"
      ]
    },
    {
      "cell_type": "code",
      "execution_count": null,
      "metadata": {
        "colab": {
          "base_uri": "https://localhost:8080/",
          "height": 17
        },
        "executionInfo": {
          "elapsed": 826,
          "status": "ok",
          "timestamp": 1748205938826,
          "user": {
            "displayName": "",
            "userId": ""
          },
          "user_tz": 180
        },
        "id": "3oW9x0a9NpsG",
        "outputId": "a24a4bd9-995c-4f80-bf6d-2322549ad2a7"
      },
      "outputs": [],
      "source": [
        "sintoma_cols = [col for col in df_query_faixa.columns if col.startswith('teve_')]\n",
        "\n",
        "sintoma_df = pd.DataFrame()\n",
        "for sintoma in sintoma_cols:\n",
        "    a = df_query_faixa.query(f\"{sintoma} == 'Sim' or {sintoma} == 'Não'\")\n",
        "    a = a[[sintoma, 'fez_exame', 'resultado_final', 'providencia_exame', 'total', 'idade']].copy()\n",
        "    a['sintoma'] = sintoma\n",
        "    a = a.rename(columns={sintoma: 'resposta'})\n",
        "    sintoma_df = pd.concat([sintoma_df, a], ignore_index=True)\n",
        "\n",
        "sintoma_df = sintoma_df.fillna('')\n",
        "\n",
        "sintoma_df = sintoma_df.groupby(\n",
        "    ['sintoma', 'fez_exame', 'resultado_final', 'providencia_exame', 'idade']\n",
        "      )['total'].sum().reset_index()\n",
        "\n",
        "df_query_sintoma_result = sintoma_df.groupby(['sintoma', 'resultado_final'], as_index=False).agg({'total':'sum'})\n",
        "df_query_sintoma_result = df_query_sintoma_result.pivot_table(index='sintoma', columns='resultado_final', values='total')\n",
        "\n",
        "df_query_sintoma_idade = sintoma_df.groupby(['sintoma', 'idade'], as_index=False).agg({'total':'sum'})\n",
        "df_query_sintoma_idade = df_query_sintoma_idade.pivot_table(index='sintoma', columns='idade', values='total')\n",
        "\n",
        "df_query_sintoma_prov = sintoma_df.groupby(['providencia_exame', 'resultado_final'], as_index=False).agg({'total':'sum'})\n",
        "df_query_sintoma_prov = df_query_sintoma_prov.pivot_table(index='providencia_exame', columns='resultado_final', values='total')\n",
        "\n",
        "df_query_sintoma = sintoma_df.groupby(['sintoma'], as_index=False).agg({'total':'sum'})\n",
        "\n",
        "\n",
        "with pd.ExcelWriter(\"Sintoma.xlsx\", engine=\"openpyxl\") as writer:\n",
        "    df_query_sintoma.to_excel(writer, sheet_name=\"sintoma\")\n",
        "    df_query_sintoma_result.to_excel(writer, sheet_name=\"result\")\n",
        "    df_query_sintoma_prov.to_excel(writer, sheet_name=\"prov\")\n",
        "    df_query_sintoma_idade.to_excel(writer, sheet_name=\"idade\")\n",
        "\n",
        "\n",
        "# files.download('Sintoma.xlsx')\n"
      ]
    }
  ],
  "metadata": {
    "colab": {
      "cell_execution_strategy": "setup",
      "name": "Tabelas para gráficos",
      "provenance": []
    },
    "kernelspec": {
      "display_name": "Python 3",
      "name": "python3"
    },
    "language_info": {
      "name": "python"
    }
  },
  "nbformat": 4,
  "nbformat_minor": 0
}
